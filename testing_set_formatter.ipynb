{
 "cells": [
  {
   "metadata": {},
   "cell_type": "markdown",
   "source": "# Formatting the test set as the train set",
   "id": "53bb43bad4c869b9"
  },
  {
   "cell_type": "code",
   "id": "initial_id",
   "metadata": {
    "collapsed": true,
    "ExecuteTime": {
     "end_time": "2024-04-30T09:14:26.484957Z",
     "start_time": "2024-04-30T09:14:26.323552Z"
    }
   },
   "source": [
    "import numpy as np\n",
    "import os\n",
    "import shutil\n",
    "from tqdm import tqdm"
   ],
   "outputs": [],
   "execution_count": 1
  },
  {
   "metadata": {},
   "cell_type": "markdown",
   "source": "# Loading CSV file",
   "id": "323d7c1bb67c1550"
  },
  {
   "metadata": {
    "ExecuteTime": {
     "end_time": "2024-04-30T09:17:16.934557Z",
     "start_time": "2024-04-30T09:17:16.827672Z"
    }
   },
   "cell_type": "code",
   "source": [
    "#IMAGES: './dataset/GTSRB/test_images'\n",
    "#CSV ANNOTATIONS: './dataset/GTSRB/test_images/GT-final_test.csv'\n",
    "\n",
    "csv_path='./dataset/GTSRB/test_images/GT-final_test.csv'\n",
    "\n",
    "def csv_loader(csv_path):\n",
    "    data = np.loadtxt(csv_path,\n",
    "                 delimiter=\";\", dtype=str, skiprows=1)\n",
    "    return data\n",
    "\n",
    "#You should download the testset ('GTSRB_Final_Test_Images.zip') from the website which contains only the images\n",
    "#Then you have to download the ground truth csv ('GTSRB_Final_Test_GT.zip') from the website and paste it into the testset images folder\n",
    "annotations = csv_loader(csv_path)\n",
    "#sort the annotations\n",
    "annotations=annotations[:,[0,7]]\n",
    "num_samples = len(annotations)\n",
    "#Column 0: filename - Column 1: classid\n",
    "annotations=annotations[annotations[:, 1].astype(int).argsort()]"
   ],
   "id": "468db0ee5cdf9840",
   "outputs": [],
   "execution_count": 8
  },
  {
   "metadata": {},
   "cell_type": "markdown",
   "source": "# Moving images accordingly",
   "id": "5172c68f192d26ae"
  },
  {
   "metadata": {
    "ExecuteTime": {
     "end_time": "2024-04-30T09:17:42.435140Z",
     "start_time": "2024-04-30T09:17:21.933342Z"
    }
   },
   "cell_type": "code",
   "source": [
    "for class_id in tqdm(np.unique(annotations[:,1]), desc='Class_ID'):\n",
    "    newpath = './dataset/GTSRB/test/'+class_id.zfill(5)\n",
    "    if not os.path.exists(newpath):\n",
    "        os.makedirs(newpath)\n",
    "    for image_filename in annotations[annotations[:,1]==class_id]:\n",
    "        shutil.copy('./dataset/GTSRB/test_images/'+image_filename[0], newpath+'/'+image_filename[0])"
   ],
   "id": "df556df8aaf39e91",
   "outputs": [
    {
     "name": "stderr",
     "output_type": "stream",
     "text": [
      "Class_ID: 100%|██████████| 43/43 [00:20<00:00,  2.10it/s]\n"
     ]
    }
   ],
   "execution_count": 9
  }
 ],
 "metadata": {
  "kernelspec": {
   "display_name": "Python 3",
   "language": "python",
   "name": "python3"
  },
  "language_info": {
   "codemirror_mode": {
    "name": "ipython",
    "version": 2
   },
   "file_extension": ".py",
   "mimetype": "text/x-python",
   "name": "python",
   "nbconvert_exporter": "python",
   "pygments_lexer": "ipython2",
   "version": "2.7.6"
  }
 },
 "nbformat": 4,
 "nbformat_minor": 5
}
