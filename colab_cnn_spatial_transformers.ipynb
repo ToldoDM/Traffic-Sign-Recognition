{
 "cells": [
  {
   "metadata": {
    "id": "53bb43bad4c869b9"
   },
   "cell_type": "markdown",
   "source": [
    "# Imports"
   ],
   "id": "53bb43bad4c869b9"
  },
  {
   "cell_type": "code",
   "source": [
    "!pip install -U albumentations\n",
    "!pip install split-folders"
   ],
   "metadata": {
    "colab": {
     "base_uri": "https://localhost:8080/"
    },
    "id": "P_5LiGFJ3Akj",
    "outputId": "3f140c27-1fc6-458e-f504-2e9ba18ac4ff",
    "ExecuteTime": {
     "end_time": "2024-07-03T15:38:15.797366Z",
     "start_time": "2024-07-03T15:38:12.548670Z"
    }
   },
   "id": "P_5LiGFJ3Akj",
   "outputs": [
    {
     "name": "stdout",
     "output_type": "stream",
     "text": [
      "Requirement already satisfied: albumentations in /home/toldo/virtual_envs/Traffic-Sign-Recognition/lib/python3.10/site-packages (1.4.10)\r\n",
      "Requirement already satisfied: numpy<2,>=1.24.4 in /home/toldo/virtual_envs/Traffic-Sign-Recognition/lib/python3.10/site-packages (from albumentations) (1.26.4)\r\n",
      "Requirement already satisfied: scipy>=1.10.0 in /home/toldo/virtual_envs/Traffic-Sign-Recognition/lib/python3.10/site-packages (from albumentations) (1.13.0)\r\n",
      "Requirement already satisfied: scikit-image>=0.21.0 in /home/toldo/virtual_envs/Traffic-Sign-Recognition/lib/python3.10/site-packages (from albumentations) (0.23.2)\r\n",
      "Requirement already satisfied: PyYAML in /home/toldo/virtual_envs/Traffic-Sign-Recognition/lib/python3.10/site-packages (from albumentations) (6.0.1)\r\n",
      "Requirement already satisfied: typing-extensions>=4.9.0 in /home/toldo/virtual_envs/Traffic-Sign-Recognition/lib/python3.10/site-packages (from albumentations) (4.11.0)\r\n",
      "Requirement already satisfied: scikit-learn>=1.3.2 in /home/toldo/virtual_envs/Traffic-Sign-Recognition/lib/python3.10/site-packages (from albumentations) (1.4.2)\r\n",
      "Requirement already satisfied: pydantic>=2.7.0 in /home/toldo/virtual_envs/Traffic-Sign-Recognition/lib/python3.10/site-packages (from albumentations) (2.7.1)\r\n",
      "Requirement already satisfied: albucore>=0.0.11 in /home/toldo/virtual_envs/Traffic-Sign-Recognition/lib/python3.10/site-packages (from albumentations) (0.0.12)\r\n",
      "Requirement already satisfied: opencv-python-headless>=4.9.0.80 in /home/toldo/virtual_envs/Traffic-Sign-Recognition/lib/python3.10/site-packages (from albumentations) (4.9.0.80)\r\n",
      "Requirement already satisfied: tomli>=2.0.1 in /home/toldo/virtual_envs/Traffic-Sign-Recognition/lib/python3.10/site-packages (from albucore>=0.0.11->albumentations) (2.0.1)\r\n",
      "Requirement already satisfied: annotated-types>=0.4.0 in /home/toldo/virtual_envs/Traffic-Sign-Recognition/lib/python3.10/site-packages (from pydantic>=2.7.0->albumentations) (0.6.0)\r\n",
      "Requirement already satisfied: pydantic-core==2.18.2 in /home/toldo/virtual_envs/Traffic-Sign-Recognition/lib/python3.10/site-packages (from pydantic>=2.7.0->albumentations) (2.18.2)\r\n",
      "Requirement already satisfied: networkx>=2.8 in /home/toldo/virtual_envs/Traffic-Sign-Recognition/lib/python3.10/site-packages (from scikit-image>=0.21.0->albumentations) (3.3)\r\n",
      "Requirement already satisfied: pillow>=9.1 in /home/toldo/virtual_envs/Traffic-Sign-Recognition/lib/python3.10/site-packages (from scikit-image>=0.21.0->albumentations) (10.3.0)\r\n",
      "Requirement already satisfied: imageio>=2.33 in /home/toldo/virtual_envs/Traffic-Sign-Recognition/lib/python3.10/site-packages (from scikit-image>=0.21.0->albumentations) (2.34.1)\r\n",
      "Requirement already satisfied: tifffile>=2022.8.12 in /home/toldo/virtual_envs/Traffic-Sign-Recognition/lib/python3.10/site-packages (from scikit-image>=0.21.0->albumentations) (2024.5.3)\r\n",
      "Requirement already satisfied: packaging>=21 in /home/toldo/virtual_envs/Traffic-Sign-Recognition/lib/python3.10/site-packages (from scikit-image>=0.21.0->albumentations) (24.0)\r\n",
      "Requirement already satisfied: lazy-loader>=0.4 in /home/toldo/virtual_envs/Traffic-Sign-Recognition/lib/python3.10/site-packages (from scikit-image>=0.21.0->albumentations) (0.4)\r\n",
      "Requirement already satisfied: joblib>=1.2.0 in /home/toldo/virtual_envs/Traffic-Sign-Recognition/lib/python3.10/site-packages (from scikit-learn>=1.3.2->albumentations) (1.4.2)\r\n",
      "Requirement already satisfied: threadpoolctl>=2.0.0 in /home/toldo/virtual_envs/Traffic-Sign-Recognition/lib/python3.10/site-packages (from scikit-learn>=1.3.2->albumentations) (3.5.0)\r\n",
      "\r\n",
      "\u001B[1m[\u001B[0m\u001B[34;49mnotice\u001B[0m\u001B[1;39;49m]\u001B[0m\u001B[39;49m A new release of pip is available: \u001B[0m\u001B[31;49m23.2.1\u001B[0m\u001B[39;49m -> \u001B[0m\u001B[32;49m24.1.1\u001B[0m\r\n",
      "\u001B[1m[\u001B[0m\u001B[34;49mnotice\u001B[0m\u001B[1;39;49m]\u001B[0m\u001B[39;49m To update, run: \u001B[0m\u001B[32;49mpip install --upgrade pip\u001B[0m\r\n",
      "Requirement already satisfied: split-folders in /home/toldo/virtual_envs/Traffic-Sign-Recognition/lib/python3.10/site-packages (0.5.1)\r\n",
      "\r\n",
      "\u001B[1m[\u001B[0m\u001B[34;49mnotice\u001B[0m\u001B[1;39;49m]\u001B[0m\u001B[39;49m A new release of pip is available: \u001B[0m\u001B[31;49m23.2.1\u001B[0m\u001B[39;49m -> \u001B[0m\u001B[32;49m24.1.1\u001B[0m\r\n",
      "\u001B[1m[\u001B[0m\u001B[34;49mnotice\u001B[0m\u001B[1;39;49m]\u001B[0m\u001B[39;49m To update, run: \u001B[0m\u001B[32;49mpip install --upgrade pip\u001B[0m\r\n"
     ]
    }
   ],
   "execution_count": 21
  },
  {
   "cell_type": "code",
   "id": "initial_id",
   "metadata": {
    "collapsed": true,
    "id": "initial_id",
    "colab": {
     "base_uri": "https://localhost:8080/"
    },
    "outputId": "e7310ded-f8e0-4409-856d-570280543fd0",
    "ExecuteTime": {
     "end_time": "2024-07-03T15:38:15.802590Z",
     "start_time": "2024-07-03T15:38:15.798801Z"
    }
   },
   "source": [
    "import numpy as np\n",
    "import os\n",
    "import shutil\n",
    "from tqdm import tqdm\n",
    "import zipfile\n",
    "import urllib.request\n",
    "import cv2\n",
    "import torch\n",
    "import torchvision\n",
    "import torch.nn as nn\n",
    "import torch.optim as optim\n",
    "from torch.optim import lr_scheduler\n",
    "from torchvision import datasets, models, transforms\n",
    "from torch.utils.data import Dataset, DataLoader, SubsetRandomSampler, random_split\n",
    "from torchvision.datasets import ImageFolder\n",
    "import torch.nn.functional as F\n",
    "import torchvision.utils as vutils\n",
    "from torch.utils.tensorboard import SummaryWriter\n",
    "from torchvision.models import ResNet152_Weights, ResNet50_Weights\n",
    "import random\n",
    "import time\n",
    "import copy\n",
    "import matplotlib.pyplot as plt\n",
    "import splitfolders\n",
    "import data_augmenter"
   ],
   "outputs": [],
   "execution_count": 22
  },
  {
   "cell_type": "code",
   "source": [
    "def plot_classes_preds(images, labels, preds, probs):\n",
    "    # plot the images in the batch, along with predicted and true labels\n",
    "    fig = plt.figure(figsize=(15, 5))\n",
    "    for idx in np.arange(4):\n",
    "        ax = fig.add_subplot(1, 4, idx + 1, xticks=[], yticks=[])\n",
    "        norm_img = cv2.normalize(images[idx].cpu().numpy(), None, alpha=0, beta=255, norm_type=cv2.NORM_MINMAX)\n",
    "        rgb_img = np.transpose(norm_img, (1, 2, 0)).astype(np.uint8)\n",
    "        plt.imshow(rgb_img)\n",
    "        ax.set_title(\"{0}, {1:.1f}%\\n(label: {2})\".format(\n",
    "            preds[idx],\n",
    "            probs[idx] * 100.0,\n",
    "            labels[idx]),\n",
    "            color=(\"green\" if preds[idx] == labels[idx].item() else \"red\"))\n",
    "    return fig"
   ],
   "metadata": {
    "id": "6CCfxseGNAtf",
    "ExecuteTime": {
     "end_time": "2024-07-03T15:38:15.816394Z",
     "start_time": "2024-07-03T15:38:15.803694Z"
    }
   },
   "id": "6CCfxseGNAtf",
   "outputs": [],
   "execution_count": 23
  },
  {
   "cell_type": "markdown",
   "source": [
    "# Preprocess"
   ],
   "metadata": {
    "id": "9ax_0x5Pn-MF"
   },
   "id": "9ax_0x5Pn-MF"
  },
  {
   "metadata": {
    "id": "ba26bd6e55fb8bae",
    "ExecuteTime": {
     "end_time": "2024-07-03T15:38:15.824020Z",
     "start_time": "2024-07-03T15:38:15.817774Z"
    }
   },
   "cell_type": "code",
   "source": [
    "np.random.seed(123)  # for replication"
   ],
   "id": "ba26bd6e55fb8bae",
   "outputs": [],
   "execution_count": 24
  },
  {
   "metadata": {
    "id": "fe6a3582e4f42eab"
   },
   "cell_type": "markdown",
   "source": [
    "## Download the dataset"
   ],
   "id": "fe6a3582e4f42eab"
  },
  {
   "metadata": {
    "colab": {
     "base_uri": "https://localhost:8080/"
    },
    "id": "dc01ba7b79c1896f",
    "outputId": "49b1ba35-3fdc-4b67-bff7-1ab2395cc55d",
    "ExecuteTime": {
     "end_time": "2024-07-03T15:38:18.595745Z",
     "start_time": "2024-07-03T15:38:15.825009Z"
    }
   },
   "cell_type": "code",
   "source": [
    "def download_file(url, file_name):\n",
    "    if not os.path.exists('dataset/' + file_name):\n",
    "        with urllib.request.urlopen(url) as response, open('dataset/' + file_name, 'wb') as out_file:\n",
    "            content_length = int(response.headers['Content-Length'])\n",
    "            with tqdm(total=content_length, unit='B', unit_scale=True, desc=url.split('/')[-1]) as pbar:\n",
    "                while True:\n",
    "                    chunk = response.read(1024)\n",
    "                    if not chunk:\n",
    "                        break\n",
    "                    out_file.write(chunk)\n",
    "                    pbar.update(len(chunk))\n",
    "    else:\n",
    "        print(f\"{file_name} already exists.\")\n",
    "\n",
    "\n",
    "os.makedirs(\"dataset/\", exist_ok=True)\n",
    "# Check if the directory exists before trying to delete it\n",
    "if os.path.exists('dataset/GTSRB/'):\n",
    "    shutil.rmtree('dataset/GTSRB/')\n",
    "    print(\"The folder 'dataset/GTSRB/' has been deleted successfully.\")\n",
    "else:\n",
    "    print(\"The folder 'dataset/GTSRB/' does not exist.\")\n",
    "# Training\n",
    "download_file('https://sid.erda.dk/public/archives/daaeac0d7ce1152aea9b61d9f1e19370/GTSRB_Final_Training_Images.zip',\n",
    "              'GTSRB_Final_Training_Images.zip')\n",
    "# Testing\n",
    "download_file('https://sid.erda.dk/public/archives/daaeac0d7ce1152aea9b61d9f1e19370/GTSRB_Final_Test_Images.zip',\n",
    "              'GTSRB_Final_Test_Images.zip')\n",
    "# Ground truth\n",
    "download_file('https://sid.erda.dk/public/archives/daaeac0d7ce1152aea9b61d9f1e19370/GTSRB_Final_Test_GT.zip',\n",
    "              'GTSRB_Final_Test_GT.zip')"
   ],
   "id": "dc01ba7b79c1896f",
   "outputs": [
    {
     "name": "stdout",
     "output_type": "stream",
     "text": [
      "The folder 'dataset/GTSRB/' has been deleted successfully.\n",
      "GTSRB_Final_Training_Images.zip already exists.\n",
      "GTSRB_Final_Test_Images.zip already exists.\n",
      "GTSRB_Final_Test_GT.zip already exists.\n"
     ]
    }
   ],
   "execution_count": 25
  },
  {
   "metadata": {
    "id": "f905d089f305e5b7"
   },
   "cell_type": "markdown",
   "source": [
    "## Extract zip files"
   ],
   "id": "f905d089f305e5b7"
  },
  {
   "metadata": {
    "colab": {
     "base_uri": "https://localhost:8080/"
    },
    "id": "3de5a631fc79d888",
    "outputId": "a47e1c83-caad-4385-c493-28c72f17ddb1",
    "ExecuteTime": {
     "end_time": "2024-07-03T15:38:26.461435Z",
     "start_time": "2024-07-03T15:38:18.596827Z"
    }
   },
   "cell_type": "code",
   "source": [
    "def extract_file(file_name):\n",
    "    with zipfile.ZipFile(f\"dataset/{file_name}\", 'r') as zip_ref:\n",
    "        file_list = zip_ref.namelist()\n",
    "        with tqdm(total=len(file_list), desc=\"Extracting\") as pbar:\n",
    "            for file in file_list:\n",
    "                zip_ref.extract(file, 'dataset/')\n",
    "                pbar.update(1)\n",
    "\n",
    "\n",
    "extract_file('GTSRB_Final_Training_Images.zip')\n",
    "extract_file('GTSRB_Final_Test_Images.zip')\n",
    "extract_file('GTSRB_Final_Test_GT.zip')"
   ],
   "id": "3de5a631fc79d888",
   "outputs": [
    {
     "name": "stderr",
     "output_type": "stream",
     "text": [
      "Extracting: 100%|██████████| 39299/39299 [00:05<00:00, 6832.13it/s]\n",
      "Extracting: 100%|██████████| 12635/12635 [00:01<00:00, 6747.89it/s]\n",
      "Extracting: 100%|██████████| 1/1 [00:00<00:00, 458.59it/s]\n"
     ]
    }
   ],
   "execution_count": 26
  },
  {
   "metadata": {
    "id": "323d7c1bb67c1550"
   },
   "cell_type": "markdown",
   "source": [
    "## Loading CSV file"
   ],
   "id": "323d7c1bb67c1550"
  },
  {
   "metadata": {
    "id": "468db0ee5cdf9840",
    "ExecuteTime": {
     "end_time": "2024-07-03T15:38:26.494210Z",
     "start_time": "2024-07-03T15:38:26.462464Z"
    }
   },
   "cell_type": "code",
   "source": [
    "#IMAGES: './dataset/GTSRB/test_images'\n",
    "#CSV ANNOTATIONS: './dataset/GTSRB/test_images/GT-final_test.csv'\n",
    "def csv_loader(csv_path):\n",
    "    data = np.loadtxt(csv_path,\n",
    "                      delimiter=\";\", dtype=str, skiprows=1)\n",
    "    return data\n",
    "\n",
    "\n",
    "#You should download the testset ('GTSRB_Final_Test_Images.zip') from the website which contains only the images\n",
    "#Then you have to download the ground truth csv ('GTSRB_Final_Test_GT.zip') from the website and paste it into the testset images folder\n",
    "annotations = csv_loader('./dataset/GT-final_test.csv')\n",
    "#sort the annotations\n",
    "annotations = annotations[:, [0, 7]]\n",
    "num_samples = len(annotations)\n",
    "#Column 0: filename - Column 1: classid\n",
    "annotations = annotations[annotations[:, 1].astype(int).argsort()]"
   ],
   "id": "468db0ee5cdf9840",
   "outputs": [],
   "execution_count": 27
  },
  {
   "metadata": {
    "id": "b8b6074543013fbb"
   },
   "cell_type": "markdown",
   "source": [
    "## Making training data accordingly"
   ],
   "id": "b8b6074543013fbb"
  },
  {
   "metadata": {
    "colab": {
     "base_uri": "https://localhost:8080/"
    },
    "id": "61a83a9b0d1825e4",
    "outputId": "bb698c3b-ee90-4bdb-a9ec-7e91f0e0027b",
    "ExecuteTime": {
     "end_time": "2024-07-03T15:38:26.501146Z",
     "start_time": "2024-07-03T15:38:26.495321Z"
    }
   },
   "cell_type": "code",
   "source": [
    "def move_directories(source, destination):\n",
    "    if not os.path.exists(destination):\n",
    "        os.makedirs(destination)\n",
    "    # Get a list of all directories in the source directory\n",
    "    directories = [d for d in os.listdir(source) if os.path.isdir(os.path.join(source, d))]\n",
    "\n",
    "    # Move each directory to the destination\n",
    "    for directory in tqdm(directories):\n",
    "        source_path = os.path.join(source, directory)\n",
    "        destination_path = os.path.join(destination, directory)\n",
    "        shutil.move(source_path, destination_path)\n",
    "\n",
    "\n",
    "# Move directories with contents\n",
    "move_directories(\"./dataset/GTSRB/Final_Training/Images\", \"./dataset/GTSRB/train\")\n",
    "shutil.rmtree(\"./dataset/GTSRB/Final_Training\")"
   ],
   "id": "61a83a9b0d1825e4",
   "outputs": [
    {
     "name": "stderr",
     "output_type": "stream",
     "text": [
      "100%|██████████| 43/43 [00:00<00:00, 38357.10it/s]\n"
     ]
    }
   ],
   "execution_count": 28
  },
  {
   "metadata": {
    "id": "5172c68f192d26ae"
   },
   "cell_type": "markdown",
   "source": [
    "## Making test data accordingly"
   ],
   "id": "5172c68f192d26ae"
  },
  {
   "metadata": {
    "colab": {
     "base_uri": "https://localhost:8080/"
    },
    "id": "df556df8aaf39e91",
    "outputId": "fb5ccd24-86c7-4c70-acff-be8f8cb0a4ff",
    "ExecuteTime": {
     "end_time": "2024-07-03T15:38:26.935216Z",
     "start_time": "2024-07-03T15:38:26.501980Z"
    }
   },
   "cell_type": "code",
   "source": [
    "for class_id in tqdm(np.unique(annotations[:, 1]), desc='Class_ID'):\n",
    "    newpath = './dataset/GTSRB/test/' + class_id.zfill(5)\n",
    "    if not os.path.exists(newpath):\n",
    "        os.makedirs(newpath)\n",
    "    for image_filename in annotations[annotations[:, 1] == class_id]:\n",
    "        shutil.move('./dataset/GTSRB/Final_Test/Images/' + image_filename[0], newpath + '/' + image_filename[0])\n",
    "\n",
    "shutil.rmtree(\"./dataset/GTSRB/Final_Test\")"
   ],
   "id": "df556df8aaf39e91",
   "outputs": [
    {
     "name": "stderr",
     "output_type": "stream",
     "text": [
      "Class_ID: 100%|██████████| 43/43 [00:00<00:00, 102.96it/s]\n"
     ]
    }
   ],
   "execution_count": 29
  },
  {
   "cell_type": "markdown",
   "source": [
    "## Merge the dataset and then split into train and test"
   ],
   "metadata": {
    "id": "JWpVwjN6nUFH"
   },
   "id": "JWpVwjN6nUFH"
  },
  {
   "cell_type": "code",
   "source": [
    "def merge(source_folder, destination_folder):\n",
    "    # Create the destination folder if it doesn't exist\n",
    "    if not os.path.exists(destination_folder):\n",
    "        os.makedirs(destination_folder)\n",
    "\n",
    "    # Get the total number of files and directories in the source folder\n",
    "    total_items = sum([len(files) + len(dirs) for root, dirs, files in os.walk(source_folder)])\n",
    "\n",
    "    # Initialize tqdm to show progress\n",
    "    progress = tqdm(total=total_items, desc='Moving: ' + source_folder + ' --> ' + destination_folder, position=0, leave=True)\n",
    "\n",
    "    # Iterate over all files and subdirectories in the source folder\n",
    "    for root, dirs, files in os.walk(source_folder):\n",
    "        for item in files + dirs:\n",
    "            source_item = os.path.join(root, item)\n",
    "            destination_item = os.path.join(destination_folder, os.path.relpath(source_item, source_folder))\n",
    "\n",
    "            # If the item is a file, copy it to the destination folder\n",
    "            if os.path.isfile(source_item):\n",
    "                shutil.move(source_item, destination_item)\n",
    "            # If the item is a directory, create it in the destination folder\n",
    "            elif os.path.isdir(source_item):\n",
    "                os.makedirs(destination_item, exist_ok=True)\n",
    "\n",
    "            progress.update(1)  # Update progress bar\n",
    "\n",
    "    progress.close()  # Close tqdm\n",
    "\n",
    "def merge_folders(source_folders, target_folder):\n",
    "    for sf in source_folders:\n",
    "        merge(sf, target_folder)\n",
    "        shutil.rmtree(sf)\n",
    "\n",
    "# Temporary directory to store the merged dataset\n",
    "merged_dir = \"./dataset/GTSRB/merged\"\n",
    "\n",
    "merge_folders(['./dataset/GTSRB/train','./dataset/GTSRB/test'], merged_dir)\n",
    "\n",
    "# Training 70\n",
    "# Testing 30\n",
    "splitfolders.ratio(merged_dir, output=\"./dataset/GTSRB/plain\", seed=123, ratio=(.7,0, 0.3),move=False)\n",
    "\n",
    "# Clear temporary files\n",
    "shutil.rmtree('./dataset/GTSRB/plain/val')\n",
    "os.remove('./dataset/GTSRB/Readme-Images-Final-test.txt')\n",
    "os.remove('./dataset/GTSRB/Readme-Images.txt')"
   ],
   "metadata": {
    "colab": {
     "base_uri": "https://localhost:8080/"
    },
    "id": "690Ap50knZxO",
    "outputId": "f8edb2d3-28d1-4d0b-bf88-541ab4e04add",
    "ExecuteTime": {
     "end_time": "2024-07-03T15:38:39.187824Z",
     "start_time": "2024-07-03T15:38:26.936945Z"
    }
   },
   "id": "690Ap50knZxO",
   "outputs": [
    {
     "name": "stderr",
     "output_type": "stream",
     "text": [
      "Moving: ./dataset/GTSRB/train --> ./dataset/GTSRB/merged: 100%|██████████| 39295/39295 [00:01<00:00, 19693.09it/s]\n",
      "Moving: ./dataset/GTSRB/test --> ./dataset/GTSRB/merged: 100%|██████████| 12673/12673 [00:00<00:00, 21931.02it/s]\n",
      "Copying files: 51882 files [00:09, 5389.48 files/s]\n"
     ]
    }
   ],
   "execution_count": 30
  },
  {
   "metadata": {
    "id": "5650b2ca72f0f486"
   },
   "cell_type": "markdown",
   "source": [
    "## Add weather conditions to the merged dataset and then split into train and test"
   ],
   "id": "5650b2ca72f0f486"
  },
  {
   "metadata": {
    "colab": {
     "base_uri": "https://localhost:8080/"
    },
    "id": "b0fb0b549a431a3d",
    "outputId": "0800184c-2b50-484c-ed37-7ff16d3fb9bd",
    "ExecuteTime": {
     "end_time": "2024-07-03T15:39:21.820247Z",
     "start_time": "2024-07-03T15:38:39.188934Z"
    }
   },
   "cell_type": "code",
   "source": [
    "da = data_augmenter.DataAugmenter(dataset_path='./dataset/GTSRB/')\n",
    "da.load_images(folder_to_load='merged')\n",
    "da.add_weather_effects(prob_per_class=0.5)\n",
    "\n",
    "# Training 70\n",
    "# Testing 30\n",
    "splitfolders.ratio(merged_dir, output=\"./dataset/GTSRB/weather\", seed=123, ratio=(.7,0, 0.3),move=True)\n",
    "\n",
    "# Clear temporary files\n",
    "shutil.rmtree('./dataset/GTSRB/weather/val')\n",
    "shutil.rmtree(merged_dir)"
   ],
   "id": "b0fb0b549a431a3d",
   "outputs": [
    {
     "name": "stdout",
     "output_type": "stream",
     "text": [
      "Classes found: , 00016, 00033, 00022, 00011, 00003, 00039, 00034, 00035, 00028, 00036, 00037, 00015, 00027, 00038, 00014, 00026, 00019, 00007, 00029, 00005, 00008, 00021, 00025, 00032, 00002, 00000, 00024, 00009, 00012, 00023, 00013, 00041, 00030, 00017, 00006, 00042, 00018, 00040, 00020, 00010, 00031, 00004, 00001\n"
     ]
    },
    {
     "name": "stderr",
     "output_type": "stream",
     "text": [
      "Loading classes: 100%|██████████| 43/43 [00:07<00:00,  5.54it/s]\n",
      "Add weather effects with probability 0.5: 100%|██████████| 43/43 [00:31<00:00,  1.37it/s]\n",
      "Copying files: 51882 files [00:03, 15679.56 files/s]\n"
     ]
    }
   ],
   "execution_count": 31
  },
  {
   "metadata": {
    "id": "6dcd860b78a2678d"
   },
   "cell_type": "markdown",
   "source": [
    "## Set dataset paths"
   ],
   "id": "6dcd860b78a2678d"
  },
  {
   "metadata": {
    "id": "20f8c403f5b816ee",
    "ExecuteTime": {
     "end_time": "2024-07-03T15:39:21.824244Z",
     "start_time": "2024-07-03T15:39:21.821416Z"
    }
   },
   "cell_type": "code",
   "source": [
    "plain_train_dir = './dataset/GTSRB/plain/train'\n",
    "plain_test_dir = './dataset/GTSRB/plain/test'\n",
    "\n",
    "weather_train_dir='./dataset/GTSRB/weather/train'\n",
    "weather_test_dir='./dataset/GTSRB/weather/test'"
   ],
   "id": "20f8c403f5b816ee",
   "outputs": [],
   "execution_count": 32
  },
  {
   "metadata": {
    "id": "d2e92b663416be6f"
   },
   "cell_type": "markdown",
   "source": [
    "# Parameters setup"
   ],
   "id": "d2e92b663416be6f"
  },
  {
   "metadata": {
    "id": "e9b3ab9f505b0242",
    "ExecuteTime": {
     "end_time": "2024-07-03T15:39:21.864108Z",
     "start_time": "2024-07-03T15:39:21.825217Z"
    }
   },
   "cell_type": "code",
   "source": [
    "# Setting device for the computation\n",
    "device = torch.device('cuda' if torch.cuda.is_available() else 'cpu')\n",
    "\n",
    "# Change this to select between plain or weather dataset\n",
    "# train_dir = plain_train_dir/weather_train_dir\n",
    "# test_dir = plain_test_dir/weather_test_dir\n",
    "train_dir = weather_train_dir\n",
    "test_dir = weather_test_dir\n",
    "\n",
    "# Hyperparameters\n",
    "hyperparams = {\n",
    "    \"num_epochs\": 15,\n",
    "    \"batch_size\": 64,\n",
    "    #optimizer\n",
    "    \"opt\": \"adam\",\n",
    "    \"learning_rate\": 1e-4,\n",
    "    \"beta_1\": 0.9,\n",
    "    \"beta_2\": 0.999,\n",
    "    \"eps\": 1e-8,\n",
    "    \"weight_decay\": 0,\n",
    "    \"momentum\": 0,\n",
    "    #scheduler\n",
    "    \"decay_rate\": 0.5,\n",
    "}"
   ],
   "id": "e9b3ab9f505b0242",
   "outputs": [],
   "execution_count": 33
  },
  {
   "cell_type": "markdown",
   "source": [
    "# Loading the training set"
   ],
   "metadata": {
    "id": "q-bE0596WTkR"
   },
   "id": "q-bE0596WTkR"
  },
  {
   "cell_type": "code",
   "source": [
    "os.makedirs('./models', exist_ok=True)\n",
    "\n",
    "# Define your transformations\n",
    "custom_cnn_transform = transforms.Compose([\n",
    "    transforms.Resize((48,48)),\n",
    "    transforms.ToTensor(),\n",
    "])\n",
    "\n",
    "# Load the dataset using the torchvision.datasets.ImageFolder\n",
    "train_dataset = datasets.ImageFolder(train_dir, transform=custom_cnn_transform)\n",
    "\n",
    "# Concatenate all images into a single tensor\n",
    "images = torch.stack([img for img, _ in train_dataset], dim=0)\n",
    "\n",
    "# Calculate mean and std across all images and channels\n",
    "mean = torch.mean(images, dim=(0, 2, 3))\n",
    "std = torch.std(images, dim=(0, 2, 3))\n",
    "\n",
    "# Define your transformations\n",
    "custom_cnn_transform = transforms.Compose([\n",
    "    transforms.Resize((48,48)),\n",
    "    transforms.ToTensor(),\n",
    "    transforms.Normalize(mean=mean, std=std)\n",
    "])\n",
    "\n",
    "# Load the dataset using the torchvision.datasets.ImageFolder\n",
    "train_dataset = datasets.ImageFolder(train_dir, transform=custom_cnn_transform)\n",
    "\n",
    "train_size = len(train_dataset)\n",
    "class_names = train_dataset.classes\n",
    "number_of_classes = len(train_dataset.classes)\n",
    "\n",
    "print('Train size:', train_size)\n",
    "print('Class names:', class_names)\n",
    "\n",
    "# Use numpy to count occurrences of each class index in targets\n",
    "train_samples_per_class = np.bincount(train_dataset.targets)\n",
    "\n",
    "# Compute class weights\n",
    "class_weights=(train_size/(number_of_classes*train_samples_per_class))\n",
    "class_weights=torch.tensor(class_weights,dtype=torch.float)\n",
    "\n",
    "# Create histogram\n",
    "plt.figure(figsize=(10, 5))\n",
    "plt.bar(class_names, train_samples_per_class, color='blue')\n",
    "plt.xlabel('Classes')\n",
    "plt.ylabel('Number of images')\n",
    "plt.title('Number of Images per Class')\n",
    "plt.xticks(rotation=90)  # Rotate class names for better visibility if needed\n",
    "plt.yticks(np.arange(0, max(train_samples_per_class) + 10, 250))  # Adjust the range and step size as needed\n",
    "plt.show()"
   ],
   "metadata": {
    "colab": {
     "base_uri": "https://localhost:8080/",
     "height": 572
    },
    "id": "gCFlJvJYWQqc",
    "outputId": "8d18460a-6cc2-48e0-d85d-0a854c9276cf",
    "ExecuteTime": {
     "end_time": "2024-07-03T15:39:34.123510Z",
     "start_time": "2024-07-03T15:39:21.865001Z"
    }
   },
   "id": "gCFlJvJYWQqc",
   "outputs": [
    {
     "name": "stderr",
     "output_type": "stream",
     "text": [
      "INFO:matplotlib.category:Using categorical units to plot a list of strings that are all parsable as floats or dates. If these strings should be plotted as numbers, cast to the appropriate data type before plotting.\n",
      "INFO:matplotlib.category:Using categorical units to plot a list of strings that are all parsable as floats or dates. If these strings should be plotted as numbers, cast to the appropriate data type before plotting.\n"
     ]
    },
    {
     "name": "stdout",
     "output_type": "stream",
     "text": [
      "Train size: 36288\n",
      "Class names: ['00000', '00001', '00002', '00003', '00004', '00005', '00006', '00007', '00008', '00009', '00010', '00011', '00012', '00013', '00014', '00015', '00016', '00017', '00018', '00019', '00020', '00021', '00022', '00023', '00024', '00025', '00026', '00027', '00028', '00029', '00030', '00031', '00032', '00033', '00034', '00035', '00036', '00037', '00038', '00039', '00040', '00041', '00042']\n"
     ]
    },
    {
     "data": {
      "text/plain": [
       "<Figure size 1000x500 with 1 Axes>"
      ],
      "image/png": "[encoded data removed]"
     },
     "metadata": {},
     "output_type": "display_data"
    }
   ],
   "execution_count": 34
  },
  {
   "cell_type": "markdown",
   "source": [
    "# Loading the test set"
   ],
   "metadata": {
    "id": "mvleDPehWW4u"
   },
   "id": "mvleDPehWW4u"
  },
  {
   "cell_type": "code",
   "source": [
    "# Load the dataset using the torchvision.datasets.ImageFolder\n",
    "test_dataset = datasets.ImageFolder(test_dir, transform=custom_cnn_transform)\n",
    "test_size = len(test_dataset)\n",
    "class_names = test_dataset.classes\n",
    "\n",
    "print('Test size:', test_size)\n",
    "print('Class names:', class_names)\n",
    "\n",
    "# Use numpy to count occurrences of each class index in targets\n",
    "counts = np.bincount(test_dataset.targets)\n",
    "\n",
    "# Create histogram\n",
    "plt.figure(figsize=(10, 5))\n",
    "plt.bar(class_names, counts, color='blue')\n",
    "plt.xlabel('Classes')\n",
    "plt.ylabel('Number of images')\n",
    "plt.title('Number of Images per Class')\n",
    "plt.xticks(rotation=90)  # Rotate class names for better visibility if needed\n",
    "plt.yticks(np.arange(0, max(counts) + 10, 50))  # Adjust the range and step size as needed\n",
    "plt.show()"
   ],
   "metadata": {
    "colab": {
     "base_uri": "https://localhost:8080/",
     "height": 572
    },
    "id": "TcSvqT4AWaxe",
    "outputId": "f8c8cf21-388d-4ae9-c1a3-408b1d19aad8",
    "ExecuteTime": {
     "end_time": "2024-07-03T15:39:34.383562Z",
     "start_time": "2024-07-03T15:39:34.124337Z"
    }
   },
   "id": "TcSvqT4AWaxe",
   "outputs": [
    {
     "name": "stderr",
     "output_type": "stream",
     "text": [
      "INFO:matplotlib.category:Using categorical units to plot a list of strings that are all parsable as floats or dates. If these strings should be plotted as numbers, cast to the appropriate data type before plotting.\n",
      "INFO:matplotlib.category:Using categorical units to plot a list of strings that are all parsable as floats or dates. If these strings should be plotted as numbers, cast to the appropriate data type before plotting.\n"
     ]
    },
    {
     "name": "stdout",
     "output_type": "stream",
     "text": [
      "Test size: 15551\n",
      "Class names: ['00000', '00001', '00002', '00003', '00004', '00005', '00006', '00007', '00008', '00009', '00010', '00011', '00012', '00013', '00014', '00015', '00016', '00017', '00018', '00019', '00020', '00021', '00022', '00023', '00024', '00025', '00026', '00027', '00028', '00029', '00030', '00031', '00032', '00033', '00034', '00035', '00036', '00037', '00038', '00039', '00040', '00041', '00042']\n"
     ]
    },
    {
     "data": {
      "text/plain": [
       "<Figure size 1000x500 with 1 Axes>"
      ],
      "image/png": "[encoded data removed]"
     },
     "metadata": {},
     "output_type": "display_data"
    }
   ],
   "execution_count": 35
  },
  {
   "cell_type": "markdown",
   "source": [
    "# Defining the CNN"
   ],
   "metadata": {
    "id": "G7CE0M9SWeZj"
   },
   "id": "G7CE0M9SWeZj"
  },
  {
   "cell_type": "markdown",
   "source": [
    "## CNN Plain"
   ],
   "metadata": {
    "id": "waE26jiDoZ32"
   },
   "id": "waE26jiDoZ32"
  },
  {
   "cell_type": "code",
   "source": [
    "class CNN(nn.Module):\n",
    "    def __init__(self):\n",
    "        super().__init__()\n",
    "        # Expected input as 48x48\n",
    "        self.conv1 = nn.Conv2d(in_channels=3, out_channels=200, kernel_size=7, stride=1, padding=2)\n",
    "        self.pool1 = nn.MaxPool2d(2, 2)\n",
    "\n",
    "        self.local_norm = nn.LocalResponseNorm(size=5)\n",
    "\n",
    "        self.conv2 = nn.Conv2d(in_channels=200, out_channels=250, kernel_size=4, stride=1, padding=2)\n",
    "\n",
    "        self.conv3 = nn.Conv2d(in_channels=250, out_channels=350, kernel_size=4, stride=1, padding=2)\n",
    "\n",
    "        self.fc1= nn.Linear(in_features=350*6*6, out_features=400)\n",
    "\n",
    "        self.fc2= nn.Linear(in_features=400, out_features=43)\n",
    "\n",
    "    def forward(self, x):\n",
    "        x = self.conv1(x)\n",
    "        x = F.relu(x)\n",
    "        x= self.pool1(x)\n",
    "\n",
    "        x = self.local_norm(x)\n",
    "\n",
    "        x = self.conv2(x)\n",
    "        x = F.relu(x)\n",
    "        x = self.pool1(x)\n",
    "\n",
    "        x = self.local_norm(x)\n",
    "\n",
    "        x = self.conv3(x)\n",
    "        x = F.relu(x)\n",
    "        x = self.pool1(x)\n",
    "\n",
    "        x = self.local_norm(x)\n",
    "\n",
    "        # Flatten the output from conv1\n",
    "        x = x.view(-1, 350*6*6)\n",
    "\n",
    "        x= self.fc1(x)\n",
    "        x = F.relu(x)\n",
    "\n",
    "        x = self.fc2(x)\n",
    "        return x"
   ],
   "metadata": {
    "id": "r56vEoqhogaG",
    "ExecuteTime": {
     "end_time": "2024-07-03T15:39:34.392956Z",
     "start_time": "2024-07-03T15:39:34.384488Z"
    }
   },
   "id": "r56vEoqhogaG",
   "outputs": [],
   "execution_count": 36
  },
  {
   "cell_type": "markdown",
   "source": [
    "## CNN with 3 spatial transformers"
   ],
   "metadata": {
    "id": "6jKXkY8lft6q"
   },
   "id": "6jKXkY8lft6q"
  },
  {
   "cell_type": "code",
   "source": [
    "class CNN_ST(nn.Module):\n",
    "    def __init__(self):\n",
    "        super().__init__()\n",
    "        # Expected input as 48x48\n",
    "        self.conv1 = nn.Conv2d(in_channels=3, out_channels=200, kernel_size=7, stride=1, padding=2)\n",
    "        self.conv2 = nn.Conv2d(in_channels=200, out_channels=250, kernel_size=4, stride=1, padding=2)\n",
    "        self.conv3 = nn.Conv2d(in_channels=250, out_channels=350, kernel_size=4, stride=1, padding=2)\n",
    "\n",
    "        self.local_norm = nn.LocalResponseNorm(size=5)\n",
    "\n",
    "        self.pool1 = nn.MaxPool2d(2, 2)\n",
    "\n",
    "        self.fc1= nn.Linear(in_features=350*6*6, out_features=400)\n",
    "        self.fc2= nn.Linear(in_features=400, out_features=43)\n",
    "\n",
    "        # Spatial transformer block 1\n",
    "        self.loc1=nn.Sequential(\n",
    "            nn.MaxPool2d(2,2),\n",
    "            nn.Conv2d(in_channels=3, out_channels=250, kernel_size=5, stride=1, padding=2),\n",
    "            nn.ReLU(True),\n",
    "            nn.MaxPool2d(2, 2),\n",
    "            nn.Conv2d(in_channels=250, out_channels=250, kernel_size=5, stride=1, padding=2),\n",
    "            nn.ReLU(True),\n",
    "            nn.MaxPool2d(2, 2)\n",
    "        )\n",
    "        self.fc_loc1 = nn.Sequential(\n",
    "            nn.Linear(250 * 6 * 6, 250),\n",
    "            nn.ReLU(True),\n",
    "            nn.Linear(250, 6)\n",
    "        )\n",
    "        # Initialize the weights/bias with identity transformation\n",
    "        self.fc_loc1[2].weight.data.zero_()\n",
    "        self.fc_loc1[2].bias.data.copy_(torch.tensor([1, 0, 0, 0, 1, 0], dtype=torch.float))\n",
    "\n",
    "        # Spatial transformer block 2\n",
    "        self.loc2=nn.Sequential(\n",
    "            nn.MaxPool2d(2,2),\n",
    "            nn.Conv2d(in_channels=200, out_channels=150, kernel_size=5, stride=1, padding=2),\n",
    "            nn.ReLU(True),\n",
    "            nn.MaxPool2d(2, 2),\n",
    "            nn.Conv2d(in_channels=150, out_channels=200, kernel_size=5, stride=1, padding=2),\n",
    "            nn.ReLU(True),\n",
    "            nn.MaxPool2d(2, 2)\n",
    "        )\n",
    "        self.fc_loc2 = nn.Sequential(\n",
    "            nn.Linear(200 * 2 * 2, 300),\n",
    "            nn.ReLU(True),\n",
    "            nn.Linear(300, 6)\n",
    "        )\n",
    "        # Initialize the weights/bias with identity transformation\n",
    "        self.fc_loc2[2].weight.data.zero_()\n",
    "        self.fc_loc2[2].bias.data.copy_(torch.tensor([1, 0, 0, 0, 1, 0], dtype=torch.float))\n",
    "\n",
    "        # Spatial transformer block 3\n",
    "        self.loc3=nn.Sequential(\n",
    "            nn.MaxPool2d(2,2),\n",
    "            nn.Conv2d(in_channels=250, out_channels=150, kernel_size=5, stride=1, padding=2),\n",
    "            nn.ReLU(True),\n",
    "            nn.MaxPool2d(2, 2),\n",
    "            nn.Conv2d(in_channels=150, out_channels=200, kernel_size=5, stride=1, padding=2),\n",
    "            nn.ReLU(True),\n",
    "            nn.MaxPool2d(2, 2)\n",
    "        )\n",
    "        self.fc_loc3 = nn.Sequential(\n",
    "            nn.Linear(200 * 1 * 1, 300),\n",
    "            nn.ReLU(True),\n",
    "            nn.Linear(300, 6)\n",
    "        )\n",
    "        # Initialize the weights/bias with identity transformation\n",
    "        self.fc_loc3[2].weight.data.zero_()\n",
    "        self.fc_loc3[2].bias.data.copy_(torch.tensor([1, 0, 0, 0, 1, 0], dtype=torch.float))\n",
    "\n",
    "\n",
    "    def stn1(self,x):\n",
    "        xs = self.loc1(x)\n",
    "        xs = xs.view(-1, 250 * 6 * 6)\n",
    "        theta = self.fc_loc1(xs)\n",
    "        theta = theta.view(-1, 2, 3)\n",
    "\n",
    "        grid = F.affine_grid(theta, x.size(), align_corners=False)\n",
    "        x = F.grid_sample(x, grid, align_corners=False)\n",
    "\n",
    "        return x\n",
    "\n",
    "    def stn2(self,x):\n",
    "        xs = self.loc2(x)\n",
    "        xs = xs.view(-1, 200 * 2 * 2)\n",
    "        theta = self.fc_loc2(xs)\n",
    "        theta = theta.view(-1, 2, 3)\n",
    "\n",
    "        grid = F.affine_grid(theta, x.size(), align_corners=False)\n",
    "        x = F.grid_sample(x, grid, align_corners=False)\n",
    "\n",
    "        return x\n",
    "\n",
    "    def stn3(self,x):\n",
    "        xs = self.loc3(x)\n",
    "        xs = xs.view(-1, 200 * 1 * 1)\n",
    "        theta = self.fc_loc3(xs)\n",
    "        theta = theta.view(-1, 2, 3)\n",
    "\n",
    "        grid = F.affine_grid(theta, x.size(), align_corners=False)\n",
    "        x = F.grid_sample(x, grid, align_corners=False)\n",
    "\n",
    "        return x\n",
    "\n",
    "    def forward(self, x):\n",
    "        # Spatial transformer 1\n",
    "        x = self.stn1(x)\n",
    "\n",
    "        # CNN block 1\n",
    "        x = self.conv1(x)\n",
    "        x = F.relu(x)\n",
    "        x = self.pool1(x)\n",
    "        x = self.local_norm(x)\n",
    "\n",
    "        # Spatial transformer 2\n",
    "        x = self.stn2(x)\n",
    "\n",
    "        # CNN block 2\n",
    "        x = self.conv2(x)\n",
    "        x = F.relu(x)\n",
    "        x = self.pool1(x)\n",
    "        x = self.local_norm(x)\n",
    "\n",
    "        # Spatial transformer 3\n",
    "        x = self.stn3(x)\n",
    "\n",
    "        # CNN block 3\n",
    "        x = self.conv3(x)\n",
    "        x = F.relu(x)\n",
    "        x = self.pool1(x)\n",
    "        x = self.local_norm(x)\n",
    "\n",
    "        # Flatten the output for dense layers\n",
    "        x = x.view(-1, 350*6*6)\n",
    "        x= self.fc1(x)\n",
    "        x = F.relu(x)\n",
    "        x = self.fc2(x)\n",
    "\n",
    "        return x"
   ],
   "metadata": {
    "id": "eAwI5trgfxqg",
    "ExecuteTime": {
     "end_time": "2024-07-03T15:39:34.407991Z",
     "start_time": "2024-07-03T15:39:34.394085Z"
    }
   },
   "id": "eAwI5trgfxqg",
   "outputs": [],
   "execution_count": 37
  },
  {
   "cell_type": "markdown",
   "source": [
    "## Training function"
   ],
   "metadata": {
    "id": "6cpZCj8mowXh"
   },
   "id": "6cpZCj8mowXh"
  },
  {
   "cell_type": "code",
   "source": [
    "def test_model(trained_model, test_loader):\n",
    "    correct = 0\n",
    "    total = 0\n",
    "    with torch.no_grad():\n",
    "        trained_model.eval()\n",
    "        for data in test_loader:\n",
    "            images, labels = data\n",
    "            images, labels = images.to(device), labels.to(device)\n",
    "            outputs = trained_model(images)\n",
    "            softmax_outputs = F.softmax(outputs, dim=1)\n",
    "            _, predicted = torch.max(softmax_outputs, 1)\n",
    "            total += labels.size(0)\n",
    "            correct += (predicted == labels).sum().item()\n",
    "\n",
    "    test_accuracy = float(correct / total)\n",
    "    print('{} Model accuracy: {:.4f}'.format('Test phase - ', test_accuracy))\n",
    "    writer.add_scalar('Training/Test Accuracy', test_accuracy)\n",
    "    return test_accuracy\n",
    "\n",
    "\n",
    "def train_model(device, model, criterion, optimizer, scheduler, train_loader, val_loader, num_epochs=25,\n",
    "                model_name='trained_model'):\n",
    "    since = time.time()\n",
    "    time_train = 0\n",
    "    time_val = 0\n",
    "\n",
    "    # Save the initial model\n",
    "    best_model_wts = copy.deepcopy(model.state_dict())\n",
    "    best_acc = 0.0\n",
    "\n",
    "    for epoch in range(num_epochs):\n",
    "        print('-' * 10)\n",
    "        print('Epoch {}/{}'.format(epoch + 1, num_epochs))\n",
    "        print('-' * 10)\n",
    "\n",
    "        # Each epoch has a training and validation phase\n",
    "        for phase in ['train', 'val']:\n",
    "            running_loss = 0.0\n",
    "            running_corrects = 0\n",
    "\n",
    "            # Choose the appropriate data loader\n",
    "            if phase == 'train':\n",
    "                model.train()  # Set model to training mode\n",
    "                data_total_steps = len(train_loader)\n",
    "                data_loader = train_loader\n",
    "            else:\n",
    "                model.eval()  # Set model to evaluate mode\n",
    "                data_total_steps = len(val_loader)\n",
    "                data_loader = val_loader\n",
    "\n",
    "            for i, (images, labels) in enumerate(data_loader):\n",
    "                # time_t = epoch * len(data_loader) * i + i\n",
    "\n",
    "                images = images.to(device)\n",
    "                labels = labels.to(device)\n",
    "\n",
    "                # Zero the parameter gradients\n",
    "                optimizer.zero_grad()\n",
    "\n",
    "                # Forward\n",
    "                # Track history if only in train\n",
    "                with torch.set_grad_enabled(phase == 'train'):\n",
    "                    outputs = model(images)\n",
    "                    softmax_outputs = F.softmax(outputs, dim=1)\n",
    "                    probs, preds = torch.max(softmax_outputs, 1)\n",
    "                    loss = criterion(outputs, labels)\n",
    "\n",
    "                    # Backward + optimize only if in training phase\n",
    "                    if phase == 'train':\n",
    "                        loss.backward()\n",
    "                        optimizer.step()\n",
    "\n",
    "                # Statistics\n",
    "                running_loss += loss.item() * images.size(0)\n",
    "                running_corrects += torch.sum(preds == labels.data)\n",
    "\n",
    "                #prints the stats every 20 steps (20 batches performed)\n",
    "                if (i + 1) % int(data_total_steps / 8) == 0:\n",
    "                    print(\n",
    "                        f'Epoch [{epoch + 1}/{num_epochs}], Step [{i + 1}/{data_total_steps}], Loss: {loss.item():.4f}')\n",
    "\n",
    "                    # Log image predictions\n",
    "                    selected_indices = random.sample(range(len(images)), 4)  # Select 4 random indices\n",
    "                    selected_images = images[selected_indices]\n",
    "                    selected_labels = labels[selected_indices]\n",
    "                    selected_preds = preds[selected_indices]\n",
    "                    selected_probs = probs[selected_indices]\n",
    "                    if phase == 'train':\n",
    "                        writer.add_figure('Training/Training Predictions',\n",
    "                                          plot_classes_preds(selected_images, selected_labels, selected_preds,\n",
    "                                                             selected_probs),\n",
    "                                          global_step=time_train)\n",
    "                    else:\n",
    "                        writer.add_figure('Training/Validation Predictions',\n",
    "                                          plot_classes_preds(selected_images, selected_labels, selected_preds,\n",
    "                                                             selected_probs),\n",
    "                                          global_step=time_val)\n",
    "\n",
    "                # Log scalars\n",
    "                if phase == 'train':\n",
    "                    writer.add_scalar('Training/Training Loss',\n",
    "                                      loss.item(),\n",
    "                                      time_train)\n",
    "                    writer.add_scalar('Policy/Learning Rate',\n",
    "                                      np.array(scheduler.get_last_lr()),\n",
    "                                      time_train)\n",
    "                    time_train += 1\n",
    "                else:\n",
    "                    writer.add_scalar('Training/Validation Loss',\n",
    "                                      loss.item(),\n",
    "                                      time_val)\n",
    "                    time_val += 1\n",
    "\n",
    "            epoch_loss = running_loss / len(data_loader.dataset)\n",
    "            epoch_acc = running_corrects.double() / len(data_loader.dataset)\n",
    "\n",
    "            if phase == 'train':\n",
    "                print('{} Epoch {} Loss: {:.4f} Acc: {:.4f}'.format(\n",
    "                    'Train phase - ', epoch + 1, epoch_loss, epoch_acc))\n",
    "                writer.add_scalar('Training/Training Accuracy',\n",
    "                                  epoch_acc,\n",
    "                                  epoch)\n",
    "                if (epoch + 1) % max(int(num_epochs / 5), 1) == 0:  # checkpoint the model\n",
    "                    print(\"----> model checkpoint...\")\n",
    "                    torch.save(model, f'./models/trained_model_{model_name}_epoch_{epoch + 1}.pth')\n",
    "            else:\n",
    "                if epoch_acc > best_acc:\n",
    "                    best_acc = epoch_acc\n",
    "                    best_model_wts = copy.deepcopy(model.state_dict())\n",
    "                print('{} Epoch {} Loss: {:.4f} Acc: {:.4f}'.format(\n",
    "                    'Validation phase - ', epoch + 1, epoch_loss, epoch_acc))\n",
    "                writer.add_scalar('Training/Validation Accuracy',\n",
    "                                  epoch_acc,\n",
    "                                  epoch)\n",
    "                #scheduler.step(epoch_loss)\n",
    "\n",
    "    time_elapsed = time.time() - since\n",
    "    print('Training complete in {:.0f}m {:.0f}s'.format(\n",
    "        time_elapsed // 60, time_elapsed % 60))\n",
    "    print('Best val Acc:{:.4f}'.format(best_acc))\n",
    "    # Return the model with the best accuracy in the validation\n",
    "    model.load_state_dict(best_model_wts)\n",
    "\n",
    "    return model"
   ],
   "metadata": {
    "id": "RIiC4t_jWeBV",
    "ExecuteTime": {
     "end_time": "2024-07-03T15:39:34.420631Z",
     "start_time": "2024-07-03T15:39:34.408917Z"
    }
   },
   "id": "RIiC4t_jWeBV",
   "outputs": [],
   "execution_count": 38
  },
  {
   "cell_type": "markdown",
   "source": [
    "## Model setting"
   ],
   "metadata": {
    "id": "trtHqdVcWrbV"
   },
   "id": "trtHqdVcWrbV"
  },
  {
   "cell_type": "code",
   "source": [
    "# default `log_dir` is \"runs\" - we'll be more specific here\n",
    "model_name = 'W_CNN_ST_adam'\n",
    "writer = SummaryWriter(f'runs/{model_name}')\n",
    "\n",
    "test_abs = int(len(train_dataset) * 0.8)\n",
    "train_subset, val_subset = random_split(\n",
    "    train_dataset, [test_abs, len(train_dataset) - test_abs])\n",
    "\n",
    "train_data_size = len(train_subset)\n",
    "\n",
    "# Create DataLoader instances for training and validation\n",
    "train_loader = torch.utils.data.DataLoader(\n",
    "    train_subset,\n",
    "    batch_size=hyperparams[\"batch_size\"],\n",
    "    shuffle=True,\n",
    "    num_workers=0)\n",
    "val_loader = torch.utils.data.DataLoader(\n",
    "    val_subset,\n",
    "    batch_size=hyperparams[\"batch_size\"],\n",
    "    shuffle=True,\n",
    "    num_workers=0)\n",
    "test_loader = DataLoader(\n",
    "    test_dataset,\n",
    "    batch_size=hyperparams[\"batch_size\"],\n",
    "    shuffle=True,\n",
    "    num_workers=0)\n",
    "\n",
    "# Model initialization\n",
    "model = CNN_ST().to(device)\n",
    "\n",
    "# Define loss function, optimizer, etc.\n",
    "class_weights=class_weights.to(device)\n",
    "criterion = nn.CrossEntropyLoss(weight=class_weights)\n",
    "\n",
    "# Set optimizers\n",
    "if hyperparams['opt'] == 'sgd':\n",
    "    optimizer = torch.optim.SGD(model.parameters(), lr=hyperparams[\"learning_rate\"],momentum=hyperparams[\"momentum\"], weight_decay=hyperparams[\"weight_decay\"])\n",
    "elif hyperparams['opt'] == 'adam':\n",
    "    optimizer = torch.optim.Adam(model.parameters(), lr=hyperparams[\"learning_rate\"], betas=(hyperparams[\"beta_1\"],hyperparams[\"beta_2\"]), eps=hyperparams[\"eps\"], weight_decay=hyperparams[\"weight_decay\"])\n",
    "elif hyperparams['opt'] == 'rmsprop':\n",
    "    optimizer = torch.optim.RMSprop(model.parameters(), lr=hyperparams[\"learning_rate\"])\n",
    "else:\n",
    "    raise ValueError('Invalid optimizer provided')\n",
    "scheduler = lr_scheduler.ConstantLR(optimizer)"
   ],
   "metadata": {
    "id": "SpS12uKCWvbE",
    "ExecuteTime": {
     "end_time": "2024-07-03T15:39:34.528765Z",
     "start_time": "2024-07-03T15:39:34.421726Z"
    }
   },
   "id": "SpS12uKCWvbE",
   "outputs": [],
   "execution_count": 39
  },
  {
   "cell_type": "markdown",
   "source": [
    "# Train the model"
   ],
   "metadata": {
    "id": "tzJPf39GWxB9"
   },
   "id": "tzJPf39GWxB9"
  },
  {
   "cell_type": "code",
   "source": [
    "# Train model\n",
    "trained_model = train_model(device=device, model=model, criterion=criterion, optimizer=optimizer, scheduler=scheduler,\n",
    "                            train_loader=train_loader, val_loader=val_loader, num_epochs=hyperparams[\"num_epochs\"],\n",
    "                            model_name=model_name)\n",
    "\n",
    "ta = test_model(trained_model=trained_model, test_loader=test_loader)"
   ],
   "metadata": {
    "colab": {
     "base_uri": "https://localhost:8080/"
    },
    "id": "nNs3JQVJWzfg",
    "outputId": "b23ae861-86cb-4b35-8301-98c25b6fcf2f",
    "ExecuteTime": {
     "end_time": "2024-07-03T15:59:51.326512Z",
     "start_time": "2024-07-03T15:39:34.529808Z"
    }
   },
   "id": "nNs3JQVJWzfg",
   "outputs": [
    {
     "name": "stdout",
     "output_type": "stream",
     "text": [
      "----------\n",
      "Epoch 1/15\n",
      "----------\n",
      "Epoch [1/15], Step [56/454], Loss: 3.6781\n",
      "Epoch [1/15], Step [112/454], Loss: 3.1866\n",
      "Epoch [1/15], Step [168/454], Loss: 2.7574\n",
      "Epoch [1/15], Step [224/454], Loss: 2.4297\n",
      "Epoch [1/15], Step [280/454], Loss: 1.8816\n",
      "Epoch [1/15], Step [336/454], Loss: 1.4332\n",
      "Epoch [1/15], Step [392/454], Loss: 1.5252\n",
      "Epoch [1/15], Step [448/454], Loss: 1.3520\n",
      "Train phase -  Epoch 1 Loss: 2.5743 Acc: 0.2963\n",
      "Epoch [1/15], Step [14/114], Loss: 1.5947\n",
      "Epoch [1/15], Step [28/114], Loss: 1.2735\n",
      "Epoch [1/15], Step [42/114], Loss: 1.4752\n",
      "Epoch [1/15], Step [56/114], Loss: 1.2867\n",
      "Epoch [1/15], Step [70/114], Loss: 1.2036\n",
      "Epoch [1/15], Step [84/114], Loss: 1.2975\n",
      "Epoch [1/15], Step [98/114], Loss: 1.3615\n",
      "Epoch [1/15], Step [112/114], Loss: 1.2878\n",
      "Validation phase -  Epoch 1 Loss: 1.3882 Acc: 0.5814\n",
      "----------\n",
      "Epoch 2/15\n",
      "----------\n",
      "Epoch [2/15], Step [56/454], Loss: 1.3641\n",
      "Epoch [2/15], Step [112/454], Loss: 1.0368\n",
      "Epoch [2/15], Step [168/454], Loss: 0.8282\n",
      "Epoch [2/15], Step [224/454], Loss: 1.3779\n",
      "Epoch [2/15], Step [280/454], Loss: 0.8817\n",
      "Epoch [2/15], Step [336/454], Loss: 1.0503\n",
      "Epoch [2/15], Step [392/454], Loss: 0.5483\n",
      "Epoch [2/15], Step [448/454], Loss: 0.7190\n",
      "Train phase -  Epoch 2 Loss: 0.9895 Acc: 0.7141\n",
      "Epoch [2/15], Step [14/114], Loss: 0.3478\n",
      "Epoch [2/15], Step [28/114], Loss: 0.9159\n",
      "Epoch [2/15], Step [42/114], Loss: 0.6750\n",
      "Epoch [2/15], Step [56/114], Loss: 0.8199\n",
      "Epoch [2/15], Step [70/114], Loss: 1.2060\n",
      "Epoch [2/15], Step [84/114], Loss: 0.7920\n",
      "Epoch [2/15], Step [98/114], Loss: 0.6842\n",
      "Epoch [2/15], Step [112/114], Loss: 0.6803\n",
      "Validation phase -  Epoch 2 Loss: 0.8125 Acc: 0.7873\n",
      "----------\n",
      "Epoch 3/15\n",
      "----------\n",
      "Epoch [3/15], Step [56/454], Loss: 0.6100\n",
      "Epoch [3/15], Step [112/454], Loss: 0.5854\n",
      "Epoch [3/15], Step [168/454], Loss: 0.3663\n",
      "Epoch [3/15], Step [224/454], Loss: 0.6165\n",
      "Epoch [3/15], Step [280/454], Loss: 0.5995\n",
      "Epoch [3/15], Step [336/454], Loss: 0.3116\n",
      "Epoch [3/15], Step [392/454], Loss: 0.5509\n",
      "Epoch [3/15], Step [448/454], Loss: 0.3947\n",
      "Train phase -  Epoch 3 Loss: 0.6074 Acc: 0.8244\n",
      "----> model checkpoint...\n",
      "Epoch [3/15], Step [14/114], Loss: 0.3035\n",
      "Epoch [3/15], Step [28/114], Loss: 0.3556\n",
      "Epoch [3/15], Step [42/114], Loss: 0.6478\n",
      "Epoch [3/15], Step [56/114], Loss: 1.0727\n",
      "Epoch [3/15], Step [70/114], Loss: 0.5467\n",
      "Epoch [3/15], Step [84/114], Loss: 1.2757\n",
      "Epoch [3/15], Step [98/114], Loss: 0.4244\n",
      "Epoch [3/15], Step [112/114], Loss: 0.4011\n",
      "Validation phase -  Epoch 3 Loss: 0.5322 Acc: 0.8624\n",
      "----------\n",
      "Epoch 4/15\n",
      "----------\n",
      "Epoch [4/15], Step [56/454], Loss: 0.3332\n",
      "Epoch [4/15], Step [112/454], Loss: 0.3544\n",
      "Epoch [4/15], Step [168/454], Loss: 0.3849\n",
      "Epoch [4/15], Step [224/454], Loss: 0.4157\n",
      "Epoch [4/15], Step [280/454], Loss: 0.2580\n",
      "Epoch [4/15], Step [336/454], Loss: 0.3110\n",
      "Epoch [4/15], Step [392/454], Loss: 0.4900\n",
      "Epoch [4/15], Step [448/454], Loss: 0.5195\n",
      "Train phase -  Epoch 4 Loss: 0.4294 Acc: 0.8743\n",
      "Epoch [4/15], Step [14/114], Loss: 0.2145\n",
      "Epoch [4/15], Step [28/114], Loss: 0.2376\n",
      "Epoch [4/15], Step [42/114], Loss: 0.4077\n",
      "Epoch [4/15], Step [56/114], Loss: 0.3781\n",
      "Epoch [4/15], Step [70/114], Loss: 0.1803\n",
      "Epoch [4/15], Step [84/114], Loss: 0.2550\n",
      "Epoch [4/15], Step [98/114], Loss: 0.5412\n",
      "Epoch [4/15], Step [112/114], Loss: 0.3534\n",
      "Validation phase -  Epoch 4 Loss: 0.4134 Acc: 0.8863\n",
      "----------\n",
      "Epoch 5/15\n",
      "----------\n",
      "Epoch [5/15], Step [56/454], Loss: 0.2587\n",
      "Epoch [5/15], Step [112/454], Loss: 0.2894\n",
      "Epoch [5/15], Step [168/454], Loss: 0.2617\n",
      "Epoch [5/15], Step [224/454], Loss: 0.1914\n",
      "Epoch [5/15], Step [280/454], Loss: 0.4929\n",
      "Epoch [5/15], Step [336/454], Loss: 0.1097\n",
      "Epoch [5/15], Step [392/454], Loss: 0.4876\n",
      "Epoch [5/15], Step [448/454], Loss: 0.2580\n",
      "Train phase -  Epoch 5 Loss: 0.3131 Acc: 0.9024\n",
      "Epoch [5/15], Step [14/114], Loss: 0.2165\n",
      "Epoch [5/15], Step [28/114], Loss: 0.7897\n",
      "Epoch [5/15], Step [42/114], Loss: 0.6084\n",
      "Epoch [5/15], Step [56/114], Loss: 0.3095\n",
      "Epoch [5/15], Step [70/114], Loss: 0.2022\n",
      "Epoch [5/15], Step [84/114], Loss: 0.5647\n",
      "Epoch [5/15], Step [98/114], Loss: 0.3010\n",
      "Epoch [5/15], Step [112/114], Loss: 0.3139\n",
      "Validation phase -  Epoch 5 Loss: 0.3441 Acc: 0.9071\n",
      "----------\n",
      "Epoch 6/15\n",
      "----------\n",
      "Epoch [6/15], Step [56/454], Loss: 0.2593\n",
      "Epoch [6/15], Step [112/454], Loss: 0.1881\n",
      "Epoch [6/15], Step [168/454], Loss: 0.3353\n",
      "Epoch [6/15], Step [224/454], Loss: 0.3313\n",
      "Epoch [6/15], Step [280/454], Loss: 0.2452\n",
      "Epoch [6/15], Step [336/454], Loss: 0.1489\n",
      "Epoch [6/15], Step [392/454], Loss: 0.3181\n",
      "Epoch [6/15], Step [448/454], Loss: 0.2971\n",
      "Train phase -  Epoch 6 Loss: 0.2547 Acc: 0.9185\n",
      "----> model checkpoint...\n",
      "Epoch [6/15], Step [14/114], Loss: 0.5032\n",
      "Epoch [6/15], Step [28/114], Loss: 0.3791\n",
      "Epoch [6/15], Step [42/114], Loss: 0.2838\n",
      "Epoch [6/15], Step [56/114], Loss: 0.2220\n",
      "Epoch [6/15], Step [70/114], Loss: 0.2450\n",
      "Epoch [6/15], Step [84/114], Loss: 0.3969\n",
      "Epoch [6/15], Step [98/114], Loss: 0.1884\n",
      "Epoch [6/15], Step [112/114], Loss: 0.3337\n",
      "Validation phase -  Epoch 6 Loss: 0.3469 Acc: 0.9067\n",
      "----------\n",
      "Epoch 7/15\n",
      "----------\n",
      "Epoch [7/15], Step [56/454], Loss: 0.0833\n",
      "Epoch [7/15], Step [112/454], Loss: 0.1306\n",
      "Epoch [7/15], Step [168/454], Loss: 0.3307\n",
      "Epoch [7/15], Step [224/454], Loss: 0.3653\n",
      "Epoch [7/15], Step [280/454], Loss: 0.0555\n",
      "Epoch [7/15], Step [336/454], Loss: 0.3427\n",
      "Epoch [7/15], Step [392/454], Loss: 0.1234\n",
      "Epoch [7/15], Step [448/454], Loss: 0.1927\n",
      "Train phase -  Epoch 7 Loss: 0.2039 Acc: 0.9302\n",
      "Epoch [7/15], Step [14/114], Loss: 0.1356\n",
      "Epoch [7/15], Step [28/114], Loss: 0.1118\n",
      "Epoch [7/15], Step [42/114], Loss: 0.2737\n",
      "Epoch [7/15], Step [56/114], Loss: 0.2688\n",
      "Epoch [7/15], Step [70/114], Loss: 0.6158\n",
      "Epoch [7/15], Step [84/114], Loss: 0.2466\n",
      "Epoch [7/15], Step [98/114], Loss: 0.4575\n",
      "Epoch [7/15], Step [112/114], Loss: 0.2698\n",
      "Validation phase -  Epoch 7 Loss: 0.2872 Acc: 0.9194\n",
      "----------\n",
      "Epoch 8/15\n",
      "----------\n",
      "Epoch [8/15], Step [56/454], Loss: 0.1839\n",
      "Epoch [8/15], Step [112/454], Loss: 0.0596\n",
      "Epoch [8/15], Step [168/454], Loss: 0.1356\n",
      "Epoch [8/15], Step [224/454], Loss: 0.1042\n",
      "Epoch [8/15], Step [280/454], Loss: 0.1752\n",
      "Epoch [8/15], Step [336/454], Loss: 0.1047\n",
      "Epoch [8/15], Step [392/454], Loss: 0.0944\n",
      "Epoch [8/15], Step [448/454], Loss: 0.2805\n",
      "Train phase -  Epoch 8 Loss: 0.1625 Acc: 0.9422\n",
      "Epoch [8/15], Step [14/114], Loss: 0.1395\n",
      "Epoch [8/15], Step [28/114], Loss: 0.2487\n",
      "Epoch [8/15], Step [42/114], Loss: 0.1909\n",
      "Epoch [8/15], Step [56/114], Loss: 0.1913\n",
      "Epoch [8/15], Step [70/114], Loss: 0.4468\n",
      "Epoch [8/15], Step [84/114], Loss: 0.0638\n",
      "Epoch [8/15], Step [98/114], Loss: 0.3299\n",
      "Epoch [8/15], Step [112/114], Loss: 0.2642\n",
      "Validation phase -  Epoch 8 Loss: 0.2960 Acc: 0.9209\n",
      "----------\n",
      "Epoch 9/15\n",
      "----------\n",
      "Epoch [9/15], Step [56/454], Loss: 0.1003\n",
      "Epoch [9/15], Step [112/454], Loss: 0.0981\n",
      "Epoch [9/15], Step [168/454], Loss: 0.0240\n",
      "Epoch [9/15], Step [224/454], Loss: 0.1474\n",
      "Epoch [9/15], Step [280/454], Loss: 0.1325\n",
      "Epoch [9/15], Step [336/454], Loss: 0.1528\n",
      "Epoch [9/15], Step [392/454], Loss: 0.0365\n",
      "Epoch [9/15], Step [448/454], Loss: 0.0589\n",
      "Train phase -  Epoch 9 Loss: 0.1306 Acc: 0.9518\n",
      "----> model checkpoint...\n",
      "Epoch [9/15], Step [14/114], Loss: 0.5358\n",
      "Epoch [9/15], Step [28/114], Loss: 0.3329\n",
      "Epoch [9/15], Step [42/114], Loss: 0.1216\n",
      "Epoch [9/15], Step [56/114], Loss: 0.2244\n",
      "Epoch [9/15], Step [70/114], Loss: 0.4717\n",
      "Epoch [9/15], Step [84/114], Loss: 0.2958\n",
      "Epoch [9/15], Step [98/114], Loss: 0.2071\n",
      "Epoch [9/15], Step [112/114], Loss: 0.4237\n",
      "Validation phase -  Epoch 9 Loss: 0.3137 Acc: 0.9168\n",
      "----------\n",
      "Epoch 10/15\n",
      "----------\n",
      "Epoch [10/15], Step [56/454], Loss: 0.0404\n",
      "Epoch [10/15], Step [112/454], Loss: 0.0872\n",
      "Epoch [10/15], Step [168/454], Loss: 0.1102\n",
      "Epoch [10/15], Step [224/454], Loss: 0.0492\n",
      "Epoch [10/15], Step [280/454], Loss: 0.1636\n",
      "Epoch [10/15], Step [336/454], Loss: 0.1075\n",
      "Epoch [10/15], Step [392/454], Loss: 0.0613\n",
      "Epoch [10/15], Step [448/454], Loss: 0.0799\n",
      "Train phase -  Epoch 10 Loss: 0.1141 Acc: 0.9564\n",
      "Epoch [10/15], Step [14/114], Loss: 0.0877\n",
      "Epoch [10/15], Step [28/114], Loss: 0.2745\n",
      "Epoch [10/15], Step [42/114], Loss: 0.5800\n",
      "Epoch [10/15], Step [56/114], Loss: 0.0874\n",
      "Epoch [10/15], Step [70/114], Loss: 0.0138\n",
      "Epoch [10/15], Step [84/114], Loss: 0.1774\n",
      "Epoch [10/15], Step [98/114], Loss: 0.1213\n",
      "Epoch [10/15], Step [112/114], Loss: 0.4656\n",
      "Validation phase -  Epoch 10 Loss: 0.2818 Acc: 0.9328\n",
      "----------\n",
      "Epoch 11/15\n",
      "----------\n",
      "Epoch [11/15], Step [56/454], Loss: 0.0716\n",
      "Epoch [11/15], Step [112/454], Loss: 0.1609\n",
      "Epoch [11/15], Step [168/454], Loss: 0.1218\n",
      "Epoch [11/15], Step [224/454], Loss: 0.0706\n",
      "Epoch [11/15], Step [280/454], Loss: 0.1377\n",
      "Epoch [11/15], Step [336/454], Loss: 0.1149\n",
      "Epoch [11/15], Step [392/454], Loss: 0.0941\n",
      "Epoch [11/15], Step [448/454], Loss: 0.0443\n",
      "Train phase -  Epoch 11 Loss: 0.0943 Acc: 0.9620\n",
      "Epoch [11/15], Step [14/114], Loss: 0.3084\n",
      "Epoch [11/15], Step [28/114], Loss: 0.1933\n",
      "Epoch [11/15], Step [42/114], Loss: 0.3550\n",
      "Epoch [11/15], Step [56/114], Loss: 0.1390\n",
      "Epoch [11/15], Step [70/114], Loss: 0.4095\n",
      "Epoch [11/15], Step [84/114], Loss: 0.2317\n",
      "Epoch [11/15], Step [98/114], Loss: 0.0606\n",
      "Epoch [11/15], Step [112/114], Loss: 0.2408\n",
      "Validation phase -  Epoch 11 Loss: 0.2876 Acc: 0.9274\n",
      "----------\n",
      "Epoch 12/15\n",
      "----------\n",
      "Epoch [12/15], Step [56/454], Loss: 0.0617\n",
      "Epoch [12/15], Step [112/454], Loss: 0.0401\n",
      "Epoch [12/15], Step [168/454], Loss: 0.0700\n",
      "Epoch [12/15], Step [224/454], Loss: 0.0503\n",
      "Epoch [12/15], Step [280/454], Loss: 0.0609\n",
      "Epoch [12/15], Step [336/454], Loss: 0.0863\n",
      "Epoch [12/15], Step [392/454], Loss: 0.0395\n",
      "Epoch [12/15], Step [448/454], Loss: 0.0937\n",
      "Train phase -  Epoch 12 Loss: 0.0741 Acc: 0.9683\n",
      "----> model checkpoint...\n",
      "Epoch [12/15], Step [14/114], Loss: 0.1545\n",
      "Epoch [12/15], Step [28/114], Loss: 0.3002\n",
      "Epoch [12/15], Step [42/114], Loss: 0.1771\n",
      "Epoch [12/15], Step [56/114], Loss: 0.1353\n",
      "Epoch [12/15], Step [70/114], Loss: 0.1494\n",
      "Epoch [12/15], Step [84/114], Loss: 0.3125\n",
      "Epoch [12/15], Step [98/114], Loss: 0.0508\n",
      "Epoch [12/15], Step [112/114], Loss: 0.1055\n",
      "Validation phase -  Epoch 12 Loss: 0.2813 Acc: 0.9336\n",
      "----------\n",
      "Epoch 13/15\n",
      "----------\n",
      "Epoch [13/15], Step [56/454], Loss: 0.0150\n",
      "Epoch [13/15], Step [112/454], Loss: 0.0879\n",
      "Epoch [13/15], Step [168/454], Loss: 0.0105\n",
      "Epoch [13/15], Step [224/454], Loss: 0.0664\n",
      "Epoch [13/15], Step [280/454], Loss: 0.0629\n",
      "Epoch [13/15], Step [336/454], Loss: 0.1203\n",
      "Epoch [13/15], Step [392/454], Loss: 0.0856\n",
      "Epoch [13/15], Step [448/454], Loss: 0.1175\n",
      "Train phase -  Epoch 13 Loss: 0.0794 Acc: 0.9682\n",
      "Epoch [13/15], Step [14/114], Loss: 0.1616\n",
      "Epoch [13/15], Step [28/114], Loss: 0.4266\n",
      "Epoch [13/15], Step [42/114], Loss: 0.5873\n",
      "Epoch [13/15], Step [56/114], Loss: 0.0605\n",
      "Epoch [13/15], Step [70/114], Loss: 0.3374\n",
      "Epoch [13/15], Step [84/114], Loss: 0.5941\n",
      "Epoch [13/15], Step [98/114], Loss: 0.5449\n",
      "Epoch [13/15], Step [112/114], Loss: 0.3079\n",
      "Validation phase -  Epoch 13 Loss: 0.2676 Acc: 0.9346\n",
      "----------\n",
      "Epoch 14/15\n",
      "----------\n",
      "Epoch [14/15], Step [56/454], Loss: 0.0435\n",
      "Epoch [14/15], Step [112/454], Loss: 0.0318\n",
      "Epoch [14/15], Step [168/454], Loss: 0.0591\n",
      "Epoch [14/15], Step [224/454], Loss: 0.0451\n",
      "Epoch [14/15], Step [280/454], Loss: 0.0169\n",
      "Epoch [14/15], Step [336/454], Loss: 0.0223\n",
      "Epoch [14/15], Step [392/454], Loss: 0.0630\n",
      "Epoch [14/15], Step [448/454], Loss: 0.0450\n",
      "Train phase -  Epoch 14 Loss: 0.0570 Acc: 0.9762\n",
      "Epoch [14/15], Step [14/114], Loss: 0.3220\n",
      "Epoch [14/15], Step [28/114], Loss: 0.0878\n",
      "Epoch [14/15], Step [42/114], Loss: 0.1253\n",
      "Epoch [14/15], Step [56/114], Loss: 0.1548\n",
      "Epoch [14/15], Step [70/114], Loss: 0.2131\n",
      "Epoch [14/15], Step [84/114], Loss: 1.5687\n",
      "Epoch [14/15], Step [98/114], Loss: 0.1391\n",
      "Epoch [14/15], Step [112/114], Loss: 0.3353\n",
      "Validation phase -  Epoch 14 Loss: 0.2918 Acc: 0.9286\n",
      "----------\n",
      "Epoch 15/15\n",
      "----------\n",
      "Epoch [15/15], Step [56/454], Loss: 0.0433\n",
      "Epoch [15/15], Step [112/454], Loss: 0.0827\n",
      "Epoch [15/15], Step [168/454], Loss: 0.0390\n",
      "Epoch [15/15], Step [224/454], Loss: 0.0295\n",
      "Epoch [15/15], Step [280/454], Loss: 0.0618\n",
      "Epoch [15/15], Step [336/454], Loss: 0.0779\n",
      "Epoch [15/15], Step [392/454], Loss: 0.0445\n",
      "Epoch [15/15], Step [448/454], Loss: 0.2829\n",
      "Train phase -  Epoch 15 Loss: 0.0606 Acc: 0.9739\n",
      "----> model checkpoint...\n",
      "Epoch [15/15], Step [14/114], Loss: 0.1996\n",
      "Epoch [15/15], Step [28/114], Loss: 0.1476\n",
      "Epoch [15/15], Step [42/114], Loss: 2.1944\n",
      "Epoch [15/15], Step [56/114], Loss: 0.0691\n",
      "Epoch [15/15], Step [70/114], Loss: 0.1008\n",
      "Epoch [15/15], Step [84/114], Loss: 0.0863\n",
      "Epoch [15/15], Step [98/114], Loss: 0.1982\n",
      "Epoch [15/15], Step [112/114], Loss: 0.2081\n",
      "Validation phase -  Epoch 15 Loss: 0.3238 Acc: 0.9266\n",
      "Training complete in 19m 60s\n",
      "Best val Acc:0.9346\n",
      "Test phase -  Model accuracy: 0.9334\n"
     ]
    },
    {
     "name": "stderr",
     "output_type": "stream",
     "text": [
      "/home/toldo/virtual_envs/Traffic-Sign-Recognition/lib/python3.10/site-packages/torch/nn/modules/conv.py:456: UserWarning: Plan failed with a cudnnException: CUDNN_BACKEND_EXECUTION_PLAN_DESCRIPTOR: cudnnFinalize Descriptor Failed cudnn_status: CUDNN_STATUS_NOT_SUPPORTED (Triggered internally at ../aten/src/ATen/native/cudnn/Conv_v8.cpp:919.)\n",
      "  return F.conv2d(input, weight, bias, self.stride,\n"
     ]
    }
   ],
   "execution_count": 40
  },
  {
   "cell_type": "code",
   "source": [
    "writer.add_hparams({key: str(value) if isinstance(value, list) else value for key, value in hyperparams.items()},\n",
    "                   metric_dict={'Training/Test Accuracy': ta})"
   ],
   "metadata": {
    "id": "PlXgmMcABY2X",
    "ExecuteTime": {
     "end_time": "2024-07-03T15:59:51.336625Z",
     "start_time": "2024-07-03T15:59:51.327411Z"
    }
   },
   "id": "PlXgmMcABY2X",
   "outputs": [],
   "execution_count": 41
  },
  {
   "cell_type": "markdown",
   "source": [
    "# Saving the trained model"
   ],
   "metadata": {
    "id": "9NUtJO4nW1Iu"
   },
   "id": "9NUtJO4nW1Iu"
  },
  {
   "cell_type": "code",
   "source": [
    "print('Finished Training')\n",
    "torch.save(trained_model, f'./models/trained_model_{model_name}_final.pth')"
   ],
   "metadata": {
    "id": "XEYZMVC1W7mH",
    "colab": {
     "base_uri": "https://localhost:8080/"
    },
    "outputId": "d800ea9c-1f4c-484a-d85e-cf68e2daca2e",
    "ExecuteTime": {
     "end_time": "2024-07-03T15:59:51.465916Z",
     "start_time": "2024-07-03T15:59:51.337461Z"
    }
   },
   "id": "XEYZMVC1W7mH",
   "outputs": [
    {
     "name": "stdout",
     "output_type": "stream",
     "text": [
      "Finished Training\n"
     ]
    }
   ],
   "execution_count": 42
  },
  {
   "cell_type": "code",
   "source": "# !zip -r runs.zip runs",
   "metadata": {
    "colab": {
     "base_uri": "https://localhost:8080/"
    },
    "id": "OL41g_-KDYWe",
    "outputId": "88276013-7cd0-49f9-a20a-3a7e5391a36d",
    "ExecuteTime": {
     "end_time": "2024-07-03T15:59:51.469073Z",
     "start_time": "2024-07-03T15:59:51.466846Z"
    }
   },
   "id": "OL41g_-KDYWe",
   "outputs": [],
   "execution_count": 43
  }
 ],
 "metadata": {
  "kernelspec": {
   "display_name": "Python 3 (ipykernel)",
   "name": "python3",
   "language": "python"
  },
  "language_info": {
   "codemirror_mode": {
    "name": "ipython",
    "version": 2
   },
   "file_extension": ".py",
   "mimetype": "text/x-python",
   "name": "python",
   "nbconvert_exporter": "python",
   "pygments_lexer": "ipython2",
   "version": "2.7.6"
  },
  "colab": {
   "provenance": [],
   "gpuType": "T4"
  },
  "accelerator": "GPU"
 },
 "nbformat": 4,
 "nbformat_minor": 5
}
